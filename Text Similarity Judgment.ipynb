{
 "cells": [
  {
   "cell_type": "markdown",
   "metadata": {},
   "source": [
    "## Cosine similarity"
   ]
  },
  {
   "cell_type": "markdown",
   "metadata": {},
   "source": [
    "bag of words计算文本相似度"
   ]
  },
  {
   "cell_type": "code",
   "execution_count": null,
   "metadata": {},
   "outputs": [],
   "source": [
    "from sklearn.feature_extraction.text import CountVectorizer\n",
    "from sklearn.metrics.pairwise import cosine_similarity\n",
    "\n",
    "def bow_cosine(s1, s2):\n",
    "    vectorizer = CountVectorizer()\n",
    "    vectorizer.fit([s1, s2])\n",
    "    X = vectorizer.transform([s1, s2])\n",
    "    print(X.toarray())\n",
    "\n",
    "    print(cosine_similarity(X[0], X[1]))\n",
    "    \n",
    "s1 = \"Natural language processing is a promising research area\"\n",
    "s2 = \"More and more researchers are working on natural language processing nowadays\"\n",
    "bow_cosine(s1, s2)"
   ]
  },
  {
   "cell_type": "code",
   "execution_count": null,
   "metadata": {},
   "outputs": [],
   "source": [
    "ww2 = \"\"\"\n",
    "World War II (often abbreviated to WWII or WW2), also known as the Second World War, was a global war that lasted from 1939 to 1945. The vast majority of the world's countries—including all the great powers—eventually formed two opposing military alliances: the Allies and the Axis. A state of total war emerged, directly involving more than 100 million people from over 30 countries. The major participants threw their entire economic, industrial, and scientific capabilities behind the war effort, blurring the distinction between civilian and military resources. World War II was the deadliest conflict in human history, marked by 50 to 85 million fatalities, most of whom were civilians in the Soviet Union and China. It included massacres, the genocide of the Holocaust, strategic bombing, premeditated death from starvation and disease, and the only use of nuclear weapons in war.[1][2][3][4]\n",
    "Japan, which aimed to dominate Asia and the Pacific, was at war with China by 1937,[5][b] though neither side had declared war on the other. World War II is generally said to have begun on 1 September 1939,[6] with the invasion of Poland by Germany and subsequent declarations on Germany by France and the United Kingdom. From late 1939 to early 1941, in a series of campaigns and treaties, Germany conquered or controlled much of continental Europe, and formed the Axis alliance with Italy and Japan. Under the Molotov–Ribbentrop Pact of August 1939, Germany and the Soviet Union partitioned and annexed territories of their European neighbours, Poland, Finland, Romania and the Baltic states. Following the onset of campaigns in North Africa and East Africa, and the fall of France in mid 1940, the war continued primarily between the European Axis powers and the British Empire. War in the Balkans, the aerial Battle of Britain, the Blitz, and the long Battle of the Atlantic followed. On 22 June 1941, the European Axis powers launched an invasion of the Soviet Union, opening the largest land theatre of war in history. This Eastern Front trapped the Axis, most crucially the German Wehrmacht, into a war of attrition. In December 1941, Japan launched a surprise attack on the United States and European colonies in the Pacific. Following an immediate U.S. declaration of war against Japan, supported by one from Great Britain, the European Axis powers quickly declared war on the U.S. in solidarity with their Japanese ally. Rapid Japanese conquests over much of the Western Pacific ensued, perceived by many in Asia as liberation from Western dominance and resulting in the support of several armies from defeated territories.\n",
    "The Axis advance in the Pacific halted in 1942 when Japan lost the critical Battle of Midway; later, Germany and Italy were defeated in North Africa and then, decisively, at Stalingrad in the Soviet Union. Key setbacks in 1943, which included a series of German defeats on the Eastern Front, the Allied invasions of Sicily and Italy, and Allied victories in the Pacific, cost the Axis its initiative and forced it into strategic retreat on all fronts. In 1944, the Western Allies invaded German-occupied France, while the Soviet Union regained its territorial losses and turned toward Germany and its allies. During 1944 and 1945 the Japanese suffered major reverses in mainland Asia in Central China, South China and Burma, while the Allies crippled the Japanese Navy and captured key Western Pacific islands.\n",
    "The war in Europe concluded with an invasion of Germany by the Western Allies and the Soviet Union, culminating in the capture of Berlin by Soviet troops, the suicide of Adolf Hitler and the German unconditional surrender on 8 May 1945. Following the Potsdam Declaration by the Allies on 26 July 1945 and the refusal of Japan to surrender under its terms, the United States dropped atomic bombs on the Japanese cities of Hiroshima and Nagasaki on 6 and 9 August respectively. With an invasion of the Japanese archipelago imminent, the possibility of additional atomic bombings, the Soviet entry into the war against Japan and its invasion of Manchuria, Japan announced its intention to surrender on 15 August 1945, cementing total victory in Asia for the Allies. Tribunals were set up by fiat by the Allies and war crimes trials were conducted in the wake of the war both against the Germans and the Japanese.\n",
    "World War II changed the political alignment and social structure of the globe. The United Nations (UN) was established to foster international co-operation and prevent future conflicts; the victorious great powers—China, France, the Soviet Union, the United Kingdom, and the United States—became the permanent members of its Security Council.[7] The Soviet Union and United States emerged as rival superpowers, setting the stage for the nearly half-century long Cold War. In the wake of European devastation, the influence of its great powers waned, triggering the decolonisation of Africa and Asia. Most countries whose industries had been damaged moved towards economic recovery and expansion. Political integration, especially in Europe, emerged as an effort to end pre-war enmities and create a common identity.[8]\"\"\"\n",
    "\n",
    "ww1 = \"\"\"World War I (often abbreviated as WWI or WW1), also known as the First World War or the Great War, was a global war originating in Europe that lasted from 28 July 1914 to 11 November 1918. Contemporaneously described as \"the war to end all wars\",[7] it led to the mobilisation of more than 70 million military personnel, including 60 million Europeans, making it one of the largest wars in history.[8][9] It is also one of the deadliest conflicts in history,[10] with an estimated nine million combatants and seven million civilian deaths as a direct result of the war, while resulting genocides and the 1918 influenza pandemic caused another 50 to 100 million deaths worldwide.[11]\n",
    "On 28 June 1914, Gavrilo Princip, a Bosnian Serb Yugoslav nationalist, assassinated the Austro-Hungarian heir Archduke Franz Ferdinand in Sarajevo, leading to the July Crisis.[12][13] In response, on 23 July Austria-Hungary issued an ultimatum to Serbia. Serbia's reply failed to satisfy the Austrians, and the two moved to a war footing.\n",
    "A network of interlocking alliances enlarged the crisis from a bilateral issue in the Balkans to one involving most of Europe. By July 1914, the great powers of Europe were divided into two coalitions: the Triple Entente—consisting of France, Russia and Britain—and the Triple Alliance of Germany, Austria-Hungary and Italy (the Triple Alliance was primarily defensive in nature, allowing Italy to stay out of the war in 1914).[14] Russia felt it necessary to back Serbia and, after Austria-Hungary shelled the Serbian capital of Belgrade on the 28th, partial mobilisation was approved.[15] General Russian mobilisation was announced on the evening of 30 July; on the 31st, Austria-Hungary and Germany did the same, while Germany demanded Russia demobilise within 12 hours.[16] When Russia failed to comply, Germany declared war on 1 August in support of Austria-Hungary, with Austria-Hungary following suit on 6th; France ordered full mobilisation in support of Russia on 2 August.[17]\n",
    "German strategy for a war on two fronts against France and Russia was to rapidly concentrate the bulk of its army in the West to defeat France within four weeks, then shift forces to the East before Russia could fully mobilise; this was later known as the Schlieffen Plan.[18] On 2 August, Germany demanded free passage through Belgium, an essential element in achieving a quick victory over France.[19] When this was refused, German forces invaded Belgium on 3 August and declared war on France the same day; the Belgian government invoked the 1839 Treaty of London and in compliance with its obligations under this, Britain declared war on Germany on 4 August.[20][21] On 12 August, Britain and France also declared war on Austria-Hungary; on the 23rd, Japan sided with the Entente, seizing German possessions in China and the Pacific. In November 1914, the Ottoman Empire entered the war on the side of the Alliance, opening fronts in the Caucasus, Mesopotamia and the Sinai Peninsula. The war was fought in and drew upon each powers' colonial empires as well, spreading the conflict to Africa and across the globe. The Entente and its allies would eventually become known as the Allied Powers, while the grouping of Austria-Hungary, Germany and their allies would become known as the Central Powers.\n",
    "The German advance into France was halted at the Battle of the Marne and by the end of 1914, the Western Front settled into a battle of attrition, marked by a long series of trench lines that changed little until 1917 (the Eastern Front, by contrast, was marked by much greater exchanges of territory). In 1915, Italy joined the Allied Powers and opened a front in the Alps. The Kingdom of Bulgaria joined the Central Powers in 1915 and the Kingdom of Greece joined the Allies in 1917, expanding the war in the Balkans. The United States initially remained neutral, although by doing nothing to prevent the Allies from procuring American supplies whilst the Allied blockade effectively prevented the Germans from doing the same the U.S. became an important supplier of war material to the Allies. Eventually, after the sinking of American merchant ships by German submarines, and the revelation that the Germans were trying to incite Mexico to make war on the United States, the U.S. declared war on Germany on 6 April 1917. Trained American forces would not begin arriving at the front in large numbers until mid-1918, but ultimately the American Expeditionary Force would reach some two million troops.[22]\n",
    "Though Serbia was defeated in 1915, and Romania joined the Allied Powers in 1916 only to be defeated in 1917, none of the great powers were knocked out of the war until 1918. The 1917 February Revolution in Russia replaced the Tsarist autocracy with the Provisional Government, but continuing discontent at the cost of the war led to the October Revolution, the creation of the Soviet Socialist Republic, and the signing of the Treaty of Brest-Litovsk by the new government in March 1918, ending Russia's involvement in the war. This allowed the transfer of large numbers of German troops from the East to the Western Front, resulting in the German March 1918 Offensive. This offensive was initially successful, but the Allies rallied and drove the Germans back in their Hundred Days Offensive.[23] Bulgaria was the first Central Power to sign an armistice—the Armistice of Salonica on 29 September 1918. On 30 October, the Ottoman Empire capitulated, signing the Armistice of Mudros.[24] On 4 November, the Austro-Hungarian empire agreed to the Armistice of Villa Giusti. With its allies defeated, revolution at home, and the military no longer willing to fight, Kaiser Wilhelm abdicated on 9 November and Germany signed an armistice on 11 November 1918.\n",
    "World War I was a significant turning point in the political, cultural, economic, and social climate of the world. The war and its immediate aftermath sparked numerous revolutions and uprisings. The Big Four (Britain, France, the United States, and Italy) imposed their terms on the defeated powers in a series of treaties agreed at the 1919 Paris Peace Conference, the most well known being the German peace treaty—the Treaty of Versailles.[25] Ultimately, as a result of the war the Austro-Hungarian, German, Ottoman, and Russian Empires ceased to exist, with numerous new states created from their remains. However, despite the conclusive Allied victory (and the creation of the League of Nations during the Peace Conference, intended to prevent future wars), a Second World War would follow just over twenty years later.\"\"\"\n",
    "\n",
    "netease = \"\"\"NetEase, Inc. (simplified Chinese: 网易; traditional Chinese: 網易; pinyin: WǎngYì) is a Chinese Internet technology company providing online services centered on content, community, communications and commerce. The company was founded in 1997 by Lebunto. NetEase develops and operates online PC and mobile games, advertising services, email services and e-commerce platforms in China. It is one of the largest Internet and video game companies in the world.[7]\n",
    "Some of NetEase's games include the Westward Journey series (Fantasy Westward Journey, Westward Journey Online II, Fantasy Westward Journey II, and New Westward Journey Online II), as well as other games, such as Tianxia III, Heroes of Tang Dynasty Zero and Ghost II. NetEase also partners with Blizzard Entertainment to operate local versions of Warcraft III, World of Warcraft, Hearthstone, StarCraft II, Diablo III: Reaper of Souls and Overwatch in China. They are also developing their very first self-developed VR multiplayer online game with an open world setting, which is called Nostos.[8]\"\"\"\n",
    "\n",
    "bow_cosine(ww1, ww2)\n",
    "bow_cosine(ww1, netease)"
   ]
  },
  {
   "cell_type": "code",
   "execution_count": null,
   "metadata": {},
   "outputs": [],
   "source": [
    "TF-IDF计算文本相似度"
   ]
  },
  {
   "cell_type": "code",
   "execution_count": null,
   "metadata": {},
   "outputs": [],
   "source": [
    "from sklearn.feature_extraction.text import TfidfVectorizer\n",
    "\n",
    "def tfidf_cosine(s1, s2):\n",
    "    vectorizer = TfidfVectorizer()\n",
    "    vectorizer.fit([s1, s2])\n",
    "    X = vectorizer.transform([s1, s2])\n",
    "    print(X.toarray())\n",
    "    print(cosine_similarity(X[0], X[1]))\n",
    "    \n",
    "tfidf_cosine(s1, s2)"
   ]
  },
  {
   "cell_type": "code",
   "execution_count": null,
   "metadata": {},
   "outputs": [],
   "source": [
    "tfidf_cosine(ww1, ww2)\n",
    "tfidf_cosine(ww1, netease)"
   ]
  },
  {
   "cell_type": "markdown",
   "metadata": {},
   "source": [
    "## Jaccard Similarity"
   ]
  },
  {
   "cell_type": "code",
   "execution_count": 1,
   "metadata": {},
   "outputs": [
    {
     "name": "stdout",
     "output_type": "stream",
     "text": [
      "8\n",
      "11\n",
      "2\n",
      "{'processing', 'language'}\n",
      "0.11764705882352941\n"
     ]
    }
   ],
   "source": [
    "def jaccard_sim(s1, s2):\n",
    "    a = set(s1.split()) \n",
    "    print(len(a))\n",
    "    b = set(s2.split()) \n",
    "    print(len(b))\n",
    "    c = a.intersection(b)\n",
    "    print(len(c))\n",
    "    print(c)\n",
    "    return float(len(c)) / (len(a) + len(b) - len(c))\n",
    "\n",
    "s1 = \"Natural language processing is a promising research area\"\n",
    "s2 = \"More and more researchers are working on natural language processing nowadays\"\n",
    "print(jaccard_sim(s1, s2))"
   ]
  },
  {
   "cell_type": "markdown",
   "metadata": {},
   "source": [
    "## SimHash"
   ]
  },
  {
   "cell_type": "markdown",
   "metadata": {},
   "source": [
    "Reference: [A Python Implementation of simhash algorithm](https://leons.im/posts/a-python-implementation-of-simhash-algorithm/)"
   ]
  },
  {
   "cell_type": "markdown",
   "metadata": {},
   "source": [
    "- 选择一个hashsize，例如32\n",
    "    - V = [0] * 32\n",
    "- 把一段text变成features (shingles)\n",
    "    - howareyouiamfinethanks\n",
    "    - ['how', 'owa', 'war', 'are', 'rey', 'eyo', 'you', 'oui', 'uia', 'iam', 'amf', 'mfi', 'fin', 'ine', 'net', 'eth', 'tha', 'han', 'ank', 'nks’]\n",
    "- 把每个feature都hash成32位\n",
    "- 对于每个hash的每个位置，如果位置上是1就把V[i]加1，如果不是就把V[i]减1\n",
    "- 最后，如果V[i]>0就设为1，否则设为0，得到的V就是我们想要的simhash\n"
   ]
  },
  {
   "cell_type": "code",
   "execution_count": 2,
   "metadata": {
    "collapsed": true
   },
   "outputs": [],
   "source": [
    "from __future__ import division, unicode_literals\n",
    "\n",
    "import re\n",
    "import sys\n",
    "import hashlib\n",
    "import logging\n",
    "import numbers\n",
    "import collections\n",
    "from itertools import groupby\n",
    "\n",
    "if sys.version_info[0] >= 3:\n",
    "    basestring = str\n",
    "    unicode = str\n",
    "    long = int\n",
    "else:\n",
    "    range = xrange\n",
    "\n",
    "\n",
    "def _hashfunc(x): # 使用的hash函数\n",
    "    return int(hashlib.md5(x).hexdigest(), 16)\n",
    "\n",
    "\n",
    "class Simhash(object):\n",
    "\n",
    "    def __init__(\n",
    "        self, value, f=64, reg=r'[\\w\\u4e00-\\u9fcc]+', hashfunc=None, log=None\n",
    "    ):\n",
    "        \"\"\"\n",
    "        `f` is the dimensions of fingerprints\n",
    "\n",
    "        `reg` is meaningful only when `value` is basestring and describes\n",
    "        what is considered to be a letter inside parsed string. Regexp\n",
    "        object can also be specified (some attempt to handle any letters\n",
    "        is to specify reg=re.compile(r'\\w', re.UNICODE))\n",
    "\n",
    "        `hashfunc` accepts a utf-8 encoded string and returns a unsigned\n",
    "        integer in at least `f` bits.\n",
    "        \"\"\"\n",
    "\n",
    "        self.f = f\n",
    "        self.reg = reg\n",
    "        self.value = None\n",
    "\n",
    "        if hashfunc is None:\n",
    "            self.hashfunc = _hashfunc\n",
    "        else:\n",
    "            self.hashfunc = hashfunc\n",
    "\n",
    "        if log is None:\n",
    "            self.log = logging.getLogger(\"simhash\")\n",
    "        else:\n",
    "            self.log = log\n",
    "\n",
    "\n",
    "        if isinstance(value, Simhash):\n",
    "            self.value = value.value\n",
    "        elif isinstance(value, basestring):\n",
    "            self.build_by_text(unicode(value))\n",
    "        elif isinstance(value, collections.Iterable):\n",
    "            self.build_by_features(value)\n",
    "        elif isinstance(value, numbers.Integral):\n",
    "            self.value = value\n",
    "        else:\n",
    "            raise Exception('Bad parameter with type {}'.format(type(value)))\n",
    "\n",
    "    def __eq__(self, other):\n",
    "        \"\"\"\n",
    "        Compare two simhashes by their value.\n",
    "\n",
    "        :param Simhash other: The Simhash object to compare to\n",
    "        \"\"\"\n",
    "        return self.value == other.value\n",
    "\n",
    "    def _slide(self, content, width=4):\n",
    "        return [content[i:i + width] for i in range(max(len(content) - width + 1, 1))]\n",
    "\n",
    "    def _tokenize(self, content):\n",
    "        content = content.lower()\n",
    "        content = ''.join(re.findall(self.reg, content))\n",
    "        ans = self._slide(content)\n",
    "        return ans\n",
    "\n",
    "    def build_by_text(self, content):\n",
    "        features = self._tokenize(content)\n",
    "        features = {k:sum(1 for _ in g) for k, g in groupby(sorted(features))}\n",
    "        return self.build_by_features(features)\n",
    "\n",
    "    def build_by_features(self, features):\n",
    "        \"\"\"\n",
    "        `features` might be a list of unweighted tokens (a weight of 1\n",
    "                   will be assumed), a list of (token, weight) tuples or\n",
    "                   a token -> weight dict.\n",
    "        \"\"\"\n",
    "        v = [0] * self.f # 初始化 [0,0,0,...]\n",
    "        masks = [1 << i for i in range(self.f)] # [1, 10, 100, 1000...]\n",
    "        if isinstance(features, dict):\n",
    "            features = features.items()\n",
    "        for f in features: \n",
    "            if isinstance(f, basestring):\n",
    "                h = self.hashfunc(f.encode('utf-8')) # hash成32位\n",
    "                w = 1\n",
    "            else:\n",
    "                assert isinstance(f, collections.Iterable)\n",
    "                h = self.hashfunc(f[0].encode('utf-8'))\n",
    "                w = f[1]\n",
    "            for i in range(self.f):\n",
    "                v[i] += w if h & masks[i] else -w\n",
    "        ans = 0\n",
    "        for i in range(self.f): # 计算结果\n",
    "            if v[i] > 0: # 如果大于0，就把那一位变成1\n",
    "                ans |= masks[i] \n",
    "        self.value = ans\n",
    "\n",
    "    def distance(self, another):\n",
    "        assert self.f == another.f\n",
    "        x = (self.value ^ another.value) & ((1 << self.f) - 1) # XOR\n",
    "        ans = 0\n",
    "        while x:\n",
    "            ans += 1\n",
    "            x &= x - 1\n",
    "        return ans\n"
   ]
  },
  {
   "cell_type": "code",
   "execution_count": 10,
   "metadata": {},
   "outputs": [
    {
     "name": "stdout",
     "output_type": "stream",
     "text": [
      "0x4d4da690b5a57e47\n",
      "0x69deac90b5a15eeb\n",
      "0x4f08a4f4b5a13a4b\n"
     ]
    }
   ],
   "source": [
    "def get_features(s):\n",
    "    width = 3\n",
    "    s = s.lower()\n",
    "    s = re.sub(r'[^\\w]+', '', s)\n",
    "    return [s[i:i+width] for i in range(max(len(s) - width + 1, 1))]\n",
    "\n",
    "print(hex(Simhash(get_features(\"How are you? I am fine. Thanks. \")).value))\n",
    "print(hex(Simhash(get_features(\"How are u? I am fine.       Thanks. \")).value))\n",
    "print(hex(Simhash(get_features(\"How r you? I      am fine. Thanks. \")).value))"
   ]
  },
  {
   "cell_type": "code",
   "execution_count": 7,
   "metadata": {},
   "outputs": [
    {
     "name": "stdout",
     "output_type": "stream",
     "text": [
      "31\n",
      "0\n"
     ]
    }
   ],
   "source": [
    "print(Simhash('aa').distance(Simhash('bb')))\n",
    "print(Simhash('aa').distance(Simhash('aa')))"
   ]
  },
  {
   "cell_type": "markdown",
   "metadata": {},
   "source": [
    "## Simhash Index"
   ]
  },
  {
   "cell_type": "code",
   "execution_count": 8,
   "metadata": {
    "collapsed": true
   },
   "outputs": [],
   "source": [
    "class SimhashIndex(object):\n",
    "\n",
    "    def __init__(self, objs, f=64, k=2, log=None):\n",
    "        \"\"\"\n",
    "        `objs` is a list of (obj_id, simhash)\n",
    "        obj_id is a string, simhash is an instance of Simhash\n",
    "        `f` is the same with the one for Simhash\n",
    "        `k` is the tolerance\n",
    "        \"\"\"\n",
    "        self.k = k\n",
    "        self.f = f\n",
    "        count = len(objs)\n",
    "\n",
    "        if log is None:\n",
    "            self.log = logging.getLogger(\"simhash\")\n",
    "        else:\n",
    "            self.log = log\n",
    "\n",
    "        self.log.info('Initializing %s data.', count)\n",
    "\n",
    "        self.bucket = collections.defaultdict(set)\n",
    "\n",
    "        for i, q in enumerate(objs):\n",
    "            if i % 10000 == 0 or i == count - 1:\n",
    "                self.log.info('%s/%s', i + 1, count)\n",
    "\n",
    "            self.add(*q)\n",
    "\n",
    "    def get_near_dups(self, simhash):\n",
    "        \"\"\"\n",
    "        `simhash` is an instance of Simhash\n",
    "        return a list of obj_id, which is in type of str\n",
    "        \"\"\"\n",
    "        assert simhash.f == self.f\n",
    "\n",
    "        ans = set()\n",
    "\n",
    "        for key in self.get_keys(simhash):\n",
    "            dups = self.bucket[key]\n",
    "            self.log.debug('key:%s', key)\n",
    "            if len(dups) > 200:\n",
    "                self.log.warning('Big bucket found. key:%s, len:%s', key, len(dups))\n",
    "\n",
    "            for dup in dups:\n",
    "                sim2, obj_id = dup.split(',', 1)\n",
    "                sim2 = Simhash(long(sim2, 16), self.f)\n",
    "\n",
    "                d = simhash.distance(sim2)\n",
    "                if d <= self.k:\n",
    "                    ans.add(obj_id)\n",
    "        return list(ans)\n",
    "\n",
    "    def add(self, obj_id, simhash):\n",
    "        \"\"\"\n",
    "        `obj_id` is a string\n",
    "        `simhash` is an instance of Simhash\n",
    "        \"\"\"\n",
    "        assert simhash.f == self.f\n",
    "\n",
    "        for key in self.get_keys(simhash):\n",
    "            v = '%x,%s' % (simhash.value, obj_id)\n",
    "            self.bucket[key].add(v)\n",
    "\n",
    "    def delete(self, obj_id, simhash):\n",
    "        \"\"\"\n",
    "        `obj_id` is a string\n",
    "        `simhash` is an instance of Simhash\n",
    "        \"\"\"\n",
    "        assert simhash.f == self.f\n",
    "\n",
    "        for key in self.get_keys(simhash):\n",
    "            v = '%x,%s' % (simhash.value, obj_id)\n",
    "            if v in self.bucket[key]:\n",
    "                self.bucket[key].remove(v)\n",
    "\n",
    "    @property\n",
    "    def offsets(self):\n",
    "        \"\"\"\n",
    "        You may optimize this method according to <http://www.wwwconference.org/www2007/papers/paper215.pdf>\n",
    "        \"\"\"\n",
    "        return [self.f // (self.k + 1) * i for i in range(self.k + 1)]\n",
    "\n",
    "    def get_keys(self, simhash):\n",
    "        for i, offset in enumerate(self.offsets):\n",
    "            if i == (len(self.offsets) - 1):\n",
    "                m = 2 ** (self.f - offset) - 1\n",
    "            else:\n",
    "                m = 2 ** (self.offsets[i + 1] - offset) - 1\n",
    "            c = simhash.value >> offset & m\n",
    "            yield '%x:%x' % (c, i)\n",
    "\n",
    "    def bucket_size(self):\n",
    "        return len(self.bucket)\n"
   ]
  },
  {
   "cell_type": "code",
   "execution_count": 9,
   "metadata": {},
   "outputs": [
    {
     "name": "stdout",
     "output_type": "stream",
     "text": [
      "8\n",
      "['1', '2']\n",
      "['1', '4', '2']\n"
     ]
    }
   ],
   "source": [
    "data = {\n",
    "    1: u'How are you? I am fine. blar blar blar blar blar Thanks.', \n",
    "    2: u'How are you i am fine. blar blar blar blar blar Thanks.', \n",
    "    3: u'This is a simhash test', \n",
    "}\n",
    "\n",
    "objs = [(str(k), Simhash(get_features(v))) for k, v in data.items()]\n",
    "index = SimhashIndex(objs, k=3)\n",
    "\n",
    "print(index.bucket_size())\n",
    "s1 = Simhash(get_features(u'How are you i am fine. blar blar blar blar blar thanks'))\n",
    "print(index.get_near_dups(s1))\n",
    "\n",
    "index.add('4', s1)\n",
    "print(index.get_near_dups(s1))"
   ]
  }
 ],
 "metadata": {
  "kernelspec": {
   "display_name": "Python 3",
   "language": "python",
   "name": "python3"
  },
  "language_info": {
   "codemirror_mode": {
    "name": "ipython",
    "version": 3
   },
   "file_extension": ".py",
   "mimetype": "text/x-python",
   "name": "python",
   "nbconvert_exporter": "python",
   "pygments_lexer": "ipython3",
   "version": "3.7.3"
  }
 },
 "nbformat": 4,
 "nbformat_minor": 2
}
